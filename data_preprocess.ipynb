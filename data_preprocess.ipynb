{
 "cells": [
  {
   "cell_type": "code",
   "execution_count": 1,
   "id": "d1e70df6",
   "metadata": {},
   "outputs": [],
   "source": [
    "import torch\n",
    "import numpy as np\n",
    "from torch.utils.data import Dataset\n",
    "import librosa\n",
    "from glob import glob\n",
    "import random"
   ]
  },
  {
   "cell_type": "code",
   "execution_count": 2,
   "id": "52428152",
   "metadata": {},
   "outputs": [],
   "source": [
    "SR = 16000"
   ]
  },
  {
   "cell_type": "code",
   "execution_count": 3,
   "id": "9d58199c",
   "metadata": {},
   "outputs": [],
   "source": [
    "class SpeechDataset(Dataset):\n",
    "    def __init__(self, mode, label_to_int, wav_list, label_list=None):\n",
    "        self.mode = mode\n",
    "        self.label_to_int = label_to_int\n",
    "        self.wav_list = wav_list\n",
    "        self.label_list = label_list\n",
    "        self.sr = SR\n",
    "        self.n_silence = int(len(wav_list) * 0.1)\n",
    "\n",
    "        \n",
    "        self.background_noises = [librosa.load(x, sr=self.sr)[0] for x in glob(\"../train/audio/_background_noise_/*.wav\")]\n",
    "\n",
    "    def get_one_word_wav(self, idx):\n",
    "        wav = librosa.load(self.wav_list[idx], sr=self.sr)[0]\n",
    "        if len(wav) < self.sr:\n",
    "            wav = np.pad(wav, (0, self.sr - len(wav)), 'constant')\n",
    "        return wav[:self.sr]\n",
    "\n",
    "    def get_one_noise(self):\n",
    "        selected_noise = self.background_noises[random.randint(0, len(self.background_noises) - 1)]\n",
    "        start_idx = random.randint(0, len(selected_noise) - 1 - self.sr)\n",
    "        return selected_noise[start_idx:(start_idx + self.sr)]\n",
    "\n",
    "    def get_mix_noises(self, num_noise=1, max_ratio=0.1):\n",
    "        result = np.zeros(self.sr)\n",
    "        for _ in range(num_noise):\n",
    "            result += random.random() * max_ratio * self.get_one_noise()\n",
    "        return result / num_noise if num_noise > 0 else result\n",
    "\n",
    "    def get_silent_wav(self, num_noise=1, max_ratio=0.5):\n",
    "        return self.get_mix_noises(num_noise=num_noise, max_ratio=max_ratio)\n",
    "\n",
    "    def __len__(self):\n",
    "        if self.mode == 'test':\n",
    "            return len(self.wav_list)\n",
    "        else:\n",
    "            return len(self.wav_list) + self.n_silence\n",
    "\n",
    "    def __getitem__(self, idx):\n",
    "        if idx < len(self.wav_list):\n",
    "            wav_numpy = preprocess_mel(self.get_one_word_wav(idx))\n",
    "            wav_tensor = torch.from_numpy(wav_numpy).float()\n",
    "            wav_tensor = wav_tensor.unsqueeze(0)\n",
    "\n",
    "            if self.mode == 'test':\n",
    "                return {'spec': wav_tensor, 'id': self.wav_list[idx]}\n",
    "            else:\n",
    "                label = self.label_to_int.get(self.label_list[idx], len(self.label_to_int))\n",
    "                return {'spec': wav_tensor, 'id': self.wav_list[idx], 'label': label}\n",
    "        else:\n",
    "            wav_numpy = preprocess_mel(self.get_silent_wav(\n",
    "                num_noise=random.choice([0, 1, 2, 3]),\n",
    "                max_ratio=random.choice([x / 10. for x in range(20)])))\n",
    "            wav_tensor = torch.from_numpy(wav_numpy).float()\n",
    "            wav_tensor = wav_tensor.unsqueeze(0)\n",
    "            return {'spec': wav_tensor, 'id': 'silence', 'label': len(self.label_to_int) + 1}"
   ]
  },
  {
   "cell_type": "code",
   "execution_count": 4,
   "id": "1f04b211",
   "metadata": {},
   "outputs": [],
   "source": [
    "def preprocess_mel(data, n_mels=40):\n",
    "    spectrogram = librosa.feature.melspectrogram(data, sr=SR, n_mels=n_mels, hop_length=160, n_fft=480, fmin=20, fmax=4000)\n",
    "    spectrogram = librosa.power_to_db(spectrogram)\n",
    "    spectrogram = spectrogram.astype(np.float32)\n",
    "    return spectrogram"
   ]
  },
  {
   "cell_type": "code",
   "execution_count": null,
   "id": "99b5b5d4",
   "metadata": {},
   "outputs": [],
   "source": []
  }
 ],
 "metadata": {
  "kernelspec": {
   "display_name": "Python 3",
   "language": "python",
   "name": "python3"
  },
  "language_info": {
   "codemirror_mode": {
    "name": "ipython",
    "version": 3
   },
   "file_extension": ".py",
   "mimetype": "text/x-python",
   "name": "python",
   "nbconvert_exporter": "python",
   "pygments_lexer": "ipython3",
   "version": "3.8.5"
  }
 },
 "nbformat": 4,
 "nbformat_minor": 5
}
