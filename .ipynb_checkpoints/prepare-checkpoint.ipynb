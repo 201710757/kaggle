{
 "cells": [
  {
   "cell_type": "code",
   "execution_count": 1,
   "id": "frozen-anniversary",
   "metadata": {},
   "outputs": [],
   "source": [
    "from glob import glob\n",
    "import numpy as np\n",
    "import random\n",
    "import os"
   ]
  },
  {
   "cell_type": "code",
   "execution_count": 2,
   "id": "fundamental-catch",
   "metadata": {},
   "outputs": [],
   "source": [
    "labels = ['yes', 'no', 'up', 'down', 'left', 'right', 'on', 'off', 'stop', 'go']\n",
    "data_path = '..'"
   ]
  },
  {
   "cell_type": "code",
   "execution_count": 3,
   "id": "colonial-serve",
   "metadata": {},
   "outputs": [],
   "source": [
    "SEED = 2021"
   ]
  },
  {
   "cell_type": "code",
   "execution_count": 4,
   "id": "convenient-blanket",
   "metadata": {},
   "outputs": [],
   "source": [
    "def random_shuffle(lst):\n",
    "    random.seed(SEED)\n",
    "    random.shuffle(lst)\n",
    "    return lst"
   ]
  },
  {
   "cell_type": "code",
   "execution_count": 5,
   "id": "driven-empire",
   "metadata": {},
   "outputs": [],
   "source": [
    "if not os.path.exists('input'):\n",
    "    os.mkdir('input')"
   ]
  },
  {
   "cell_type": "code",
   "execution_count": 6,
   "id": "agreed-logan",
   "metadata": {},
   "outputs": [],
   "source": [
    "trn_all = []\n",
    "trn_all_file = open('input/trn_all.txt', 'w')\n",
    "\n",
    "files = glob(data_path + '/train/audio/*/*.wav')\n",
    "for f in files:\n",
    "    if '_background_noise_' in f:\n",
    "        continue\n",
    "        \n",
    "    label = f.split('/')[-2]\n",
    "    speaker = f.split('/')[-1].split('_')[0]\n",
    "    if label not in labels:\n",
    "        label = 'unknown'\n",
    "        if random.random() < 0.2:\n",
    "            trn_all.append((label, speaker, f))\n",
    "            trn_all_file.write(\"{},{},{}\\n\".format(label, speaker, f))\n",
    "    else:\n",
    "        trn_all.append((label, speaker, f))\n",
    "        trn_all_file.write(\"{},{},{}\\n\".format(label, speaker, f))\n",
    "trn_all_file.close()"
   ]
  },
  {
   "cell_type": "code",
   "execution_count": 7,
   "id": "mighty-discovery",
   "metadata": {},
   "outputs": [],
   "source": [
    "uniq_speakers = list(set([speaker for (label, speaker, path) in trn_all]))\n",
    "random_shuffle(uniq_speakers)\n",
    "cutoff = int(len(uniq_speakers) * 0.9)\n",
    "speaker_val = uniq_speakers[cutoff:]\n",
    "\n",
    "trn_file = open('input/trn.txt', 'w')\n",
    "val_file = open('input/val.txt', 'w')\n",
    "for (label, speaker, path) in trn_all:\n",
    "    if speaker not in speaker_val:\n",
    "        trn_file.write(\"{},{},{}\\n\".format(label, speaker, path))\n",
    "    else:\n",
    "        val_file.write(\"{},{},{}\\n\".format(label, speaker, path))\n",
    "trn_file.close()\n",
    "val_file.close()"
   ]
  },
  {
   "cell_type": "code",
   "execution_count": 8,
   "id": "hearing-ground",
   "metadata": {},
   "outputs": [],
   "source": [
    "tst_all_file = open('input/tst.txt', 'w')\n",
    "files = glob(data_path + '/test/audio/*.wav')\n",
    "for f in files:\n",
    "    tst_all_file.write(\",,{}\\n\".format(f))\n",
    "tst_all_file.close()"
   ]
  },
  {
   "cell_type": "code",
   "execution_count": null,
   "id": "rubber-plain",
   "metadata": {},
   "outputs": [],
   "source": []
  }
 ],
 "metadata": {
  "kernelspec": {
   "display_name": "Python 3",
   "language": "python",
   "name": "python3"
  },
  "language_info": {
   "codemirror_mode": {
    "name": "ipython",
    "version": 3
   },
   "file_extension": ".py",
   "mimetype": "text/x-python",
   "name": "python",
   "nbconvert_exporter": "python",
   "pygments_lexer": "ipython3",
   "version": "3.8.5"
  }
 },
 "nbformat": 4,
 "nbformat_minor": 5
}
