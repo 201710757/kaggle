{
 "cells": [
  {
   "cell_type": "code",
   "execution_count": 1,
   "id": "f241688d",
   "metadata": {},
   "outputs": [],
   "source": [
    "import torch\n",
    "import torch.nn.functional as F\n",
    "from torch.nn import MaxPool2d"
   ]
  },
  {
   "cell_type": "code",
   "execution_count": 2,
   "id": "bfa5fe27",
   "metadata": {},
   "outputs": [],
   "source": [
    "class ResModel(torch.nn.Module):\n",
    "    def __init__(self):\n",
    "        super(ResModel, self).__init__()\n",
    "        \n",
    "        n_labels = 12\n",
    "        n_maps = 128\n",
    "        self.n_layers = n_layers = 9\n",
    "        self.conv0 = torch.nn.Conv2d(1, n_maps, (3, 3), padding=(1, 1), bias=False)\n",
    "        self.pool = MaxPool2d(2, return_indices=True)\n",
    "        self.convs = torch.nn.ModuleList([torch.nn.Conv2d(n_maps, n_maps, (3, 3), padding=1, dilation=1, bias=False) for _ in range(n_layers)])\n",
    "        \n",
    "        for i, conv in enumerate(self.convs):\n",
    "            self.add_module(\"bn{}\".format(i + 1), torch.nn.BatchNorm2d(n_maps, affine=False))\n",
    "            self.add_module(\"conv{}\".format(i + 1), conv)\n",
    "        \n",
    "        self.output = torch.nn.Linear(n_maps, n_labels)\n",
    "\n",
    "    def forward(self, x):\n",
    "        for i in range(self.n_layers + 1):\n",
    "            y = F.relu(getattr(self, \"conv{}\".format(i))(x))\n",
    "            if i == 0:\n",
    "                old_x = y\n",
    "            if i > 0 and i % 2 == 0:\n",
    "                x = y + old_x\n",
    "                old_x = x\n",
    "            else:\n",
    "                x = y\n",
    "            \n",
    "            if i > 0:\n",
    "                x = getattr(self, \"bn{}\".format(i))(x)\n",
    "\n",
    "            pooling = False\n",
    "            if pooling:\n",
    "                x_pool, pool_indices = self.pool(x)\n",
    "                x = self.unpool(x_pool, pool_indices, output_size=x.size())\n",
    "        x = x.view(x.size(0), x.size(1), -1)\n",
    "        x = torch.mean(x, 2)\n",
    "\n",
    "        return self.output(x)\n"
   ]
  },
  {
   "cell_type": "code",
   "execution_count": null,
   "id": "aaf913ee",
   "metadata": {},
   "outputs": [],
   "source": []
  }
 ],
 "metadata": {
  "kernelspec": {
   "display_name": "Python 3",
   "language": "python",
   "name": "python3"
  },
  "language_info": {
   "codemirror_mode": {
    "name": "ipython",
    "version": 3
   },
   "file_extension": ".py",
   "mimetype": "text/x-python",
   "name": "python",
   "nbconvert_exporter": "python",
   "pygments_lexer": "ipython3",
   "version": "3.8.5"
  }
 },
 "nbformat": 4,
 "nbformat_minor": 5
}
