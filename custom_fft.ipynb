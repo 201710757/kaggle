{
 "cells": [
  {
   "cell_type": "code",
   "execution_count": 30,
   "id": "circular-discount",
   "metadata": {},
   "outputs": [],
   "source": [
    "import numpy as np\n",
    "from scipy.fftpack import fft\n",
    "\n",
    "import IPython.display as ipd\n",
    "from scipy.io import wavfile\n",
    "import matplotlib.pyplot as plt"
   ]
  },
  {
   "cell_type": "code",
   "execution_count": 31,
   "id": "buried-guatemala",
   "metadata": {},
   "outputs": [],
   "source": [
    "def custom_fft(y, fs):\n",
    "    T = 1.0 / fs\n",
    "    N = y.shape[0]\n",
    "    yf = fft(y)\n",
    "    xf = np.linspace(0.0, 1.0/(2.0*T), N//2)\n",
    "    vals = 2.0/N * np.abs(yf[0:N//2])\n",
    "    \n",
    "    return xf, vals"
   ]
  },
  {
   "cell_type": "code",
   "execution_count": 32,
   "id": "lightweight-dallas",
   "metadata": {},
   "outputs": [],
   "source": [
    "# import os\n",
    "# os.listdir(train_audio_path)\n",
    "\n",
    "data_dir = '../train/'\n",
    "train_audio_path = data_dir + 'audio/'\n",
    "\n",
    "dirs = ['yes', 'no', 'up', 'down', 'left', 'right', 'on', 'off', 'stop', 'go']\n",
    "fft_all = []\n",
    "names = []"
   ]
  },
  {
   "cell_type": "code",
   "execution_count": 33,
   "id": "raised-extraction",
   "metadata": {},
   "outputs": [],
   "source": [
    "for direct in dirs:\n",
    "    waves = [f for f in os.listdir(train_audio_path+direct) if f.endswith('.wav')]\n",
    "    for wav in waves:\n",
    "        sample_rate, samples = wavfile.read(train_audio_path+direct+'/'+wav)\n",
    "        if samples.shape[0] != sample_rate:\n",
    "            samples = np.append(samples, np.zeros((sample_rate - samples.shape[0],)))\n",
    "        x, val = custom_fft(samples, sample_rate)\n",
    "        fft_all.append(val)\n",
    "        names.append(direct + '/' + wav)"
   ]
  },
  {
   "cell_type": "code",
   "execution_count": 34,
   "id": "increased-desktop",
   "metadata": {
    "scrolled": true
   },
   "outputs": [],
   "source": [
    "fft_all = np.array(fft_all)"
   ]
  },
  {
   "cell_type": "code",
   "execution_count": 35,
   "id": "multiple-valentine",
   "metadata": {},
   "outputs": [],
   "source": [
    "fft_all = (fft_all - np.mean(fft_all, axis=0)) / np.std(fft_all, axis=0)"
   ]
  },
  {
   "cell_type": "code",
   "execution_count": 36,
   "id": "little-better",
   "metadata": {},
   "outputs": [],
   "source": [
    "from sklearn.decomposition import PCA\n",
    "pca = PCA(n_components=2)\n",
    "fft_all = pca.fit_transform(fft_all)"
   ]
  },
  {
   "cell_type": "code",
   "execution_count": 37,
   "id": "desperate-scheme",
   "metadata": {},
   "outputs": [
    {
     "data": {
      "text/plain": [
       "<matplotlib.collections.PathCollection at 0x7f0075813f10>"
      ]
     },
     "execution_count": 37,
     "metadata": {},
     "output_type": "execute_result"
    },
    {
     "data": {
      "image/png": "[encoded data removed]",
      "text/plain": [
       "<Figure size 432x288 with 1 Axes>"
      ]
     },
     "metadata": {
      "needs_background": "light"
     },
     "output_type": "display_data"
    }
   ],
   "source": [
    "plt.scatter(x=fft_all[:,0], y=fft_all[:,1], alpha=0.3)"
   ]
  },
  {
   "cell_type": "code",
   "execution_count": 38,
   "id": "satisfied-october",
   "metadata": {},
   "outputs": [
    {
     "name": "stdout",
     "output_type": "stream",
     "text": [
      "yes/5165cf0a_nohash_0.wav\n",
      "yes/617de221_nohash_1.wav\n",
      "yes/e4b02540_nohash_0.wav\n",
      "stop/de41f895_nohash_1.wav\n"
     ]
    }
   ],
   "source": [
    "for i in np.where(fft_all[:,0] > 800)[0]:\n",
    "    print(names[i])"
   ]
  },
  {
   "cell_type": "code",
   "execution_count": null,
   "id": "criminal-weapon",
   "metadata": {},
   "outputs": [],
   "source": []
  }
 ],
 "metadata": {
  "kernelspec": {
   "display_name": "Python 3",
   "language": "python",
   "name": "python3"
  },
  "language_info": {
   "codemirror_mode": {
    "name": "ipython",
    "version": 3
   },
   "file_extension": ".py",
   "mimetype": "text/x-python",
   "name": "python",
   "nbconvert_exporter": "python",
   "pygments_lexer": "ipython3",
   "version": "3.8.5"
  }
 },
 "nbformat": 4,
 "nbformat_minor": 5
}
